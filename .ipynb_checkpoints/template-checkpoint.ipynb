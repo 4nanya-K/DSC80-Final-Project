{
 "cells": [
  {
   "cell_type": "markdown",
   "metadata": {},
   "source": [
    "# Your Title Here\n",
    "\n",
    "**Name(s)**: Ananya Krishnan & JohnWesley Pabalate\n",
    "\n",
    "**Website Link**: (your website link)"
   ]
  },
  {
   "cell_type": "code",
   "execution_count": 8,
   "metadata": {
    "ExecuteTime": {
     "end_time": "2019-10-31T23:36:28.652554Z",
     "start_time": "2019-10-31T23:36:27.180520Z"
    }
   },
   "outputs": [],
   "source": [
    "import pandas as pd\n",
    "import numpy as np\n",
    "from pathlib import Path\n",
    "\n",
    "import plotly.express as px\n",
    "pd.options.plotting.backend = 'plotly'\n",
    "\n",
    "# from dsc80_utils import * # Feel free to uncomment and use this."
   ]
  },
  {
   "cell_type": "markdown",
   "metadata": {},
   "source": [
    "## Step 1: Introduction"
   ]
  },
  {
   "cell_type": "code",
   "execution_count": 21,
   "metadata": {
    "scrolled": true
   },
   "outputs": [
    {
     "data": {
      "text/html": [
       "<div>\n",
       "<style scoped>\n",
       "    .dataframe tbody tr th:only-of-type {\n",
       "        vertical-align: middle;\n",
       "    }\n",
       "\n",
       "    .dataframe tbody tr th {\n",
       "        vertical-align: top;\n",
       "    }\n",
       "\n",
       "    .dataframe thead th {\n",
       "        text-align: right;\n",
       "    }\n",
       "</style>\n",
       "<table border=\"1\" class=\"dataframe\">\n",
       "  <thead>\n",
       "    <tr style=\"text-align: right;\">\n",
       "      <th></th>\n",
       "      <th>Unnamed: 0</th>\n",
       "      <th>name</th>\n",
       "      <th>id</th>\n",
       "      <th>minutes</th>\n",
       "      <th>contributor_id</th>\n",
       "      <th>submitted</th>\n",
       "      <th>tags</th>\n",
       "      <th>nutrition</th>\n",
       "      <th>n_steps</th>\n",
       "      <th>steps</th>\n",
       "      <th>description</th>\n",
       "      <th>ingredients</th>\n",
       "      <th>n_ingredients</th>\n",
       "    </tr>\n",
       "  </thead>\n",
       "  <tbody>\n",
       "    <tr>\n",
       "      <th>0</th>\n",
       "      <td>111</td>\n",
       "      <td>1 brownies in the world    best ever</td>\n",
       "      <td>333281</td>\n",
       "      <td>40</td>\n",
       "      <td>985201</td>\n",
       "      <td>2008-10-27</td>\n",
       "      <td>['60-minutes-or-less', 'time-to-make', 'course...</td>\n",
       "      <td>[138.4, 10.0, 50.0, 3.0, 3.0, 19.0, 6.0]</td>\n",
       "      <td>10</td>\n",
       "      <td>['heat the oven to 350f and arrange the rack i...</td>\n",
       "      <td>these are the most; chocolatey, moist, rich, d...</td>\n",
       "      <td>['bittersweet chocolate', 'unsalted butter', '...</td>\n",
       "      <td>9</td>\n",
       "    </tr>\n",
       "    <tr>\n",
       "      <th>1</th>\n",
       "      <td>115</td>\n",
       "      <td>1 in canada chocolate chip cookies</td>\n",
       "      <td>453467</td>\n",
       "      <td>45</td>\n",
       "      <td>1848091</td>\n",
       "      <td>2011-04-11</td>\n",
       "      <td>['60-minutes-or-less', 'time-to-make', 'cuisin...</td>\n",
       "      <td>[595.1, 46.0, 211.0, 22.0, 13.0, 51.0, 26.0]</td>\n",
       "      <td>12</td>\n",
       "      <td>['pre-heat oven the 350 degrees f', 'in a mixi...</td>\n",
       "      <td>this is the recipe that we use at my school ca...</td>\n",
       "      <td>['white sugar', 'brown sugar', 'salt', 'margar...</td>\n",
       "      <td>11</td>\n",
       "    </tr>\n",
       "    <tr>\n",
       "      <th>2</th>\n",
       "      <td>118</td>\n",
       "      <td>412 broccoli casserole</td>\n",
       "      <td>306168</td>\n",
       "      <td>40</td>\n",
       "      <td>50969</td>\n",
       "      <td>2008-05-30</td>\n",
       "      <td>['60-minutes-or-less', 'time-to-make', 'course...</td>\n",
       "      <td>[194.8, 20.0, 6.0, 32.0, 22.0, 36.0, 3.0]</td>\n",
       "      <td>6</td>\n",
       "      <td>['preheat oven to 350 degrees', 'spray a 2 qua...</td>\n",
       "      <td>since there are already 411 recipes for brocco...</td>\n",
       "      <td>['frozen broccoli cuts', 'cream of chicken sou...</td>\n",
       "      <td>9</td>\n",
       "    </tr>\n",
       "    <tr>\n",
       "      <th>3</th>\n",
       "      <td>119</td>\n",
       "      <td>millionaire pound cake</td>\n",
       "      <td>286009</td>\n",
       "      <td>120</td>\n",
       "      <td>461724</td>\n",
       "      <td>2008-02-12</td>\n",
       "      <td>['time-to-make', 'course', 'cuisine', 'prepara...</td>\n",
       "      <td>[878.3, 63.0, 326.0, 13.0, 20.0, 123.0, 39.0]</td>\n",
       "      <td>7</td>\n",
       "      <td>['freheat the oven to 300 degrees', 'grease a ...</td>\n",
       "      <td>why a millionaire pound cake?  because it's su...</td>\n",
       "      <td>['butter', 'sugar', 'eggs', 'all-purpose flour...</td>\n",
       "      <td>7</td>\n",
       "    </tr>\n",
       "    <tr>\n",
       "      <th>4</th>\n",
       "      <td>125</td>\n",
       "      <td>2000 meatloaf</td>\n",
       "      <td>475785</td>\n",
       "      <td>90</td>\n",
       "      <td>2202916</td>\n",
       "      <td>2012-03-06</td>\n",
       "      <td>['time-to-make', 'course', 'main-ingredient', ...</td>\n",
       "      <td>[267.0, 30.0, 12.0, 12.0, 29.0, 48.0, 2.0]</td>\n",
       "      <td>17</td>\n",
       "      <td>['pan fry bacon , and set aside on a paper tow...</td>\n",
       "      <td>ready, set, cook! special edition contest entr...</td>\n",
       "      <td>['meatloaf mixture', 'unsmoked bacon', 'goat c...</td>\n",
       "      <td>13</td>\n",
       "    </tr>\n",
       "  </tbody>\n",
       "</table>\n",
       "</div>"
      ],
      "text/plain": [
       "   Unnamed: 0                                  name      id  minutes  \\\n",
       "0         111  1 brownies in the world    best ever  333281       40   \n",
       "1         115    1 in canada chocolate chip cookies  453467       45   \n",
       "2         118                412 broccoli casserole  306168       40   \n",
       "3         119                millionaire pound cake  286009      120   \n",
       "4         125                         2000 meatloaf  475785       90   \n",
       "\n",
       "   contributor_id   submitted  \\\n",
       "0          985201  2008-10-27   \n",
       "1         1848091  2011-04-11   \n",
       "2           50969  2008-05-30   \n",
       "3          461724  2008-02-12   \n",
       "4         2202916  2012-03-06   \n",
       "\n",
       "                                                tags  \\\n",
       "0  ['60-minutes-or-less', 'time-to-make', 'course...   \n",
       "1  ['60-minutes-or-less', 'time-to-make', 'cuisin...   \n",
       "2  ['60-minutes-or-less', 'time-to-make', 'course...   \n",
       "3  ['time-to-make', 'course', 'cuisine', 'prepara...   \n",
       "4  ['time-to-make', 'course', 'main-ingredient', ...   \n",
       "\n",
       "                                       nutrition  n_steps  \\\n",
       "0       [138.4, 10.0, 50.0, 3.0, 3.0, 19.0, 6.0]       10   \n",
       "1   [595.1, 46.0, 211.0, 22.0, 13.0, 51.0, 26.0]       12   \n",
       "2      [194.8, 20.0, 6.0, 32.0, 22.0, 36.0, 3.0]        6   \n",
       "3  [878.3, 63.0, 326.0, 13.0, 20.0, 123.0, 39.0]        7   \n",
       "4     [267.0, 30.0, 12.0, 12.0, 29.0, 48.0, 2.0]       17   \n",
       "\n",
       "                                               steps  \\\n",
       "0  ['heat the oven to 350f and arrange the rack i...   \n",
       "1  ['pre-heat oven the 350 degrees f', 'in a mixi...   \n",
       "2  ['preheat oven to 350 degrees', 'spray a 2 qua...   \n",
       "3  ['freheat the oven to 300 degrees', 'grease a ...   \n",
       "4  ['pan fry bacon , and set aside on a paper tow...   \n",
       "\n",
       "                                         description  \\\n",
       "0  these are the most; chocolatey, moist, rich, d...   \n",
       "1  this is the recipe that we use at my school ca...   \n",
       "2  since there are already 411 recipes for brocco...   \n",
       "3  why a millionaire pound cake?  because it's su...   \n",
       "4  ready, set, cook! special edition contest entr...   \n",
       "\n",
       "                                         ingredients  n_ingredients  \n",
       "0  ['bittersweet chocolate', 'unsalted butter', '...              9  \n",
       "1  ['white sugar', 'brown sugar', 'salt', 'margar...             11  \n",
       "2  ['frozen broccoli cuts', 'cream of chicken sou...              9  \n",
       "3  ['butter', 'sugar', 'eggs', 'all-purpose flour...              7  \n",
       "4  ['meatloaf mixture', 'unsmoked bacon', 'goat c...             13  "
      ]
     },
     "execution_count": 21,
     "metadata": {},
     "output_type": "execute_result"
    }
   ],
   "source": [
    "#Ananya's Directory\n",
    "# recipes = pd.read_csv('dsc80-2025-wi/projects/project04/data/RAW_recipes.csv')\n",
    "\n",
    "#JohnWesley's Directory \n",
    "recipes = pd.read_csv('/Users/johnwesleypabalate/Desktop/dsc80-2025-wi/projects/project04/data/RAW_recipes.csv')\n",
    "recipes.head()"
   ]
  },
  {
   "cell_type": "code",
   "execution_count": 22,
   "metadata": {},
   "outputs": [
    {
     "data": {
      "text/html": [
       "<div>\n",
       "<style scoped>\n",
       "    .dataframe tbody tr th:only-of-type {\n",
       "        vertical-align: middle;\n",
       "    }\n",
       "\n",
       "    .dataframe tbody tr th {\n",
       "        vertical-align: top;\n",
       "    }\n",
       "\n",
       "    .dataframe thead th {\n",
       "        text-align: right;\n",
       "    }\n",
       "</style>\n",
       "<table border=\"1\" class=\"dataframe\">\n",
       "  <thead>\n",
       "    <tr style=\"text-align: right;\">\n",
       "      <th></th>\n",
       "      <th>user_id</th>\n",
       "      <th>recipe_id</th>\n",
       "      <th>date</th>\n",
       "      <th>rating</th>\n",
       "      <th>review</th>\n",
       "    </tr>\n",
       "  </thead>\n",
       "  <tbody>\n",
       "    <tr>\n",
       "      <th>0</th>\n",
       "      <td>1293707</td>\n",
       "      <td>40893</td>\n",
       "      <td>2011-12-21</td>\n",
       "      <td>5</td>\n",
       "      <td>So simple, so delicious! Great for chilly fall...</td>\n",
       "    </tr>\n",
       "    <tr>\n",
       "      <th>1</th>\n",
       "      <td>126440</td>\n",
       "      <td>85009</td>\n",
       "      <td>2010-02-27</td>\n",
       "      <td>5</td>\n",
       "      <td>I made the Mexican topping and took it to bunk...</td>\n",
       "    </tr>\n",
       "    <tr>\n",
       "      <th>2</th>\n",
       "      <td>57222</td>\n",
       "      <td>85009</td>\n",
       "      <td>2011-10-01</td>\n",
       "      <td>5</td>\n",
       "      <td>Made the cheddar bacon topping, adding a sprin...</td>\n",
       "    </tr>\n",
       "    <tr>\n",
       "      <th>3</th>\n",
       "      <td>124416</td>\n",
       "      <td>120345</td>\n",
       "      <td>2011-08-06</td>\n",
       "      <td>0</td>\n",
       "      <td>Just an observation, so I will not rate.  I fo...</td>\n",
       "    </tr>\n",
       "    <tr>\n",
       "      <th>4</th>\n",
       "      <td>2000192946</td>\n",
       "      <td>120345</td>\n",
       "      <td>2015-05-10</td>\n",
       "      <td>2</td>\n",
       "      <td>This recipe was OVERLY too sweet.  I would sta...</td>\n",
       "    </tr>\n",
       "  </tbody>\n",
       "</table>\n",
       "</div>"
      ],
      "text/plain": [
       "      user_id  recipe_id        date  rating  \\\n",
       "0     1293707      40893  2011-12-21       5   \n",
       "1      126440      85009  2010-02-27       5   \n",
       "2       57222      85009  2011-10-01       5   \n",
       "3      124416     120345  2011-08-06       0   \n",
       "4  2000192946     120345  2015-05-10       2   \n",
       "\n",
       "                                              review  \n",
       "0  So simple, so delicious! Great for chilly fall...  \n",
       "1  I made the Mexican topping and took it to bunk...  \n",
       "2  Made the cheddar bacon topping, adding a sprin...  \n",
       "3  Just an observation, so I will not rate.  I fo...  \n",
       "4  This recipe was OVERLY too sweet.  I would sta...  "
      ]
     },
     "execution_count": 22,
     "metadata": {},
     "output_type": "execute_result"
    }
   ],
   "source": [
    "#Ananya's Directory\n",
    "#reviews = pd.read_csv('dsc80-2025-wi/projects/project04/data/RAW_interactions.csv')\n",
    "\n",
    "#JohnWesley's Directory\n",
    "reviews = pd.read_csv('/Users/johnwesleypabalate/Desktop/dsc80-2025-wi/projects/project04/data/RAW_interactions.csv')\n",
    "reviews.head()"
   ]
  },
  {
   "cell_type": "markdown",
   "metadata": {},
   "source": [
    "## Step 2: Data Cleaning and Exploratory Data Analysis"
   ]
  },
  {
   "cell_type": "code",
   "execution_count": null,
   "metadata": {
    "ExecuteTime": {
     "end_time": "2019-10-31T23:36:28.657068Z",
     "start_time": "2019-10-31T23:36:28.654650Z"
    }
   },
   "outputs": [],
   "source": [
    "# TODO"
   ]
  },
  {
   "cell_type": "markdown",
   "metadata": {},
   "source": [
    "## Step 3: Assessment of Missingness"
   ]
  },
  {
   "cell_type": "code",
   "execution_count": null,
   "metadata": {
    "ExecuteTime": {
     "end_time": "2019-10-31T23:36:28.662099Z",
     "start_time": "2019-10-31T23:36:28.660016Z"
    }
   },
   "outputs": [],
   "source": [
    "# TODO"
   ]
  },
  {
   "cell_type": "markdown",
   "metadata": {},
   "source": [
    "## Step 4: Hypothesis Testing"
   ]
  },
  {
   "cell_type": "code",
   "execution_count": null,
   "metadata": {
    "ExecuteTime": {
     "end_time": "2019-10-31T23:36:28.666489Z",
     "start_time": "2019-10-31T23:36:28.664381Z"
    }
   },
   "outputs": [],
   "source": [
    "# TODO"
   ]
  },
  {
   "cell_type": "markdown",
   "metadata": {},
   "source": [
    "## Step 5: Framing a Prediction Problem"
   ]
  },
  {
   "cell_type": "code",
   "execution_count": null,
   "metadata": {
    "ExecuteTime": {
     "end_time": "2019-10-31T23:36:28.657068Z",
     "start_time": "2019-10-31T23:36:28.654650Z"
    }
   },
   "outputs": [],
   "source": [
    "# TODO"
   ]
  },
  {
   "cell_type": "markdown",
   "metadata": {},
   "source": [
    "## Step 6: Baseline Model"
   ]
  },
  {
   "cell_type": "code",
   "execution_count": null,
   "metadata": {
    "ExecuteTime": {
     "end_time": "2019-10-31T23:36:28.662099Z",
     "start_time": "2019-10-31T23:36:28.660016Z"
    }
   },
   "outputs": [],
   "source": [
    "# TODO"
   ]
  },
  {
   "cell_type": "markdown",
   "metadata": {},
   "source": [
    "## Step 7: Final Model"
   ]
  },
  {
   "cell_type": "code",
   "execution_count": null,
   "metadata": {
    "ExecuteTime": {
     "end_time": "2019-10-31T23:36:28.662099Z",
     "start_time": "2019-10-31T23:36:28.660016Z"
    }
   },
   "outputs": [],
   "source": [
    "# TODO"
   ]
  },
  {
   "cell_type": "markdown",
   "metadata": {},
   "source": [
    "## Step 8: Fairness Analysis"
   ]
  },
  {
   "cell_type": "code",
   "execution_count": null,
   "metadata": {
    "ExecuteTime": {
     "end_time": "2019-10-31T23:36:28.666489Z",
     "start_time": "2019-10-31T23:36:28.664381Z"
    }
   },
   "outputs": [],
   "source": [
    "# TODO"
   ]
  }
 ],
 "metadata": {
  "kernelspec": {
   "display_name": "Python 3 (ipykernel)",
   "language": "python",
   "name": "python3"
  },
  "language_info": {
   "codemirror_mode": {
    "name": "ipython",
    "version": 3
   },
   "file_extension": ".py",
   "mimetype": "text/x-python",
   "name": "python",
   "nbconvert_exporter": "python",
   "pygments_lexer": "ipython3",
   "version": "3.12.9"
  }
 },
 "nbformat": 4,
 "nbformat_minor": 4
}
