{
 "cells": [
  {
   "cell_type": "markdown",
   "metadata": {},
   "source": [
    "# Your Title Here\n",
    "\n",
    "**Name(s)**: Ananya Krishnan, John Wesley Pabalate\n",
    "\n",
    "**Website Link**: (your website link)"
   ]
  },
  {
   "cell_type": "code",
   "execution_count": 1,
   "metadata": {
    "ExecuteTime": {
     "end_time": "2019-10-31T23:36:28.652554Z",
     "start_time": "2019-10-31T23:36:27.180520Z"
    }
   },
   "outputs": [],
   "source": [
    "import pandas as pd\n",
    "import numpy as np\n",
    "from pathlib import Path\n",
    "\n",
    "import plotly.express as px\n",
    "pd.options.plotting.backend = 'plotly'\n",
    "\n",
    "# from dsc80_utils import * # Feel free to uncomment and use this."
   ]
  },
  {
   "cell_type": "markdown",
   "metadata": {},
   "source": [
    "## Step 1: Introduction"
   ]
  },
  {
   "cell_type": "markdown",
   "metadata": {},
   "source": [
    "## Step 2: Data Cleaning and Exploratory Data Analysis"
   ]
  },
  {
   "cell_type": "code",
   "execution_count": 22,
   "metadata": {},
   "outputs": [
    {
     "data": {
      "text/html": [
       "<div>\n",
       "<style scoped>\n",
       "    .dataframe tbody tr th:only-of-type {\n",
       "        vertical-align: middle;\n",
       "    }\n",
       "\n",
       "    .dataframe tbody tr th {\n",
       "        vertical-align: top;\n",
       "    }\n",
       "\n",
       "    .dataframe thead th {\n",
       "        text-align: right;\n",
       "    }\n",
       "</style>\n",
       "<table border=\"1\" class=\"dataframe\">\n",
       "  <thead>\n",
       "    <tr style=\"text-align: right;\">\n",
       "      <th></th>\n",
       "      <th>Unnamed: 0</th>\n",
       "      <th>name</th>\n",
       "      <th>id</th>\n",
       "      <th>minutes</th>\n",
       "      <th>contributor_id</th>\n",
       "      <th>submitted</th>\n",
       "      <th>tags</th>\n",
       "      <th>nutrition</th>\n",
       "      <th>n_steps</th>\n",
       "      <th>steps</th>\n",
       "      <th>description</th>\n",
       "      <th>ingredients</th>\n",
       "      <th>n_ingredients</th>\n",
       "    </tr>\n",
       "  </thead>\n",
       "  <tbody>\n",
       "    <tr>\n",
       "      <th>0</th>\n",
       "      <td>111</td>\n",
       "      <td>1 brownies in the world    best ever</td>\n",
       "      <td>333281</td>\n",
       "      <td>40</td>\n",
       "      <td>985201</td>\n",
       "      <td>2008-10-27</td>\n",
       "      <td>['60-minutes-or-less', 'time-to-make', 'course...</td>\n",
       "      <td>[138.4, 10.0, 50.0, 3.0, 3.0, 19.0, 6.0]</td>\n",
       "      <td>10</td>\n",
       "      <td>['heat the oven to 350f and arrange the rack i...</td>\n",
       "      <td>these are the most; chocolatey, moist, rich, d...</td>\n",
       "      <td>['bittersweet chocolate', 'unsalted butter', '...</td>\n",
       "      <td>9</td>\n",
       "    </tr>\n",
       "    <tr>\n",
       "      <th>1</th>\n",
       "      <td>115</td>\n",
       "      <td>1 in canada chocolate chip cookies</td>\n",
       "      <td>453467</td>\n",
       "      <td>45</td>\n",
       "      <td>1848091</td>\n",
       "      <td>2011-04-11</td>\n",
       "      <td>['60-minutes-or-less', 'time-to-make', 'cuisin...</td>\n",
       "      <td>[595.1, 46.0, 211.0, 22.0, 13.0, 51.0, 26.0]</td>\n",
       "      <td>12</td>\n",
       "      <td>['pre-heat oven the 350 degrees f', 'in a mixi...</td>\n",
       "      <td>this is the recipe that we use at my school ca...</td>\n",
       "      <td>['white sugar', 'brown sugar', 'salt', 'margar...</td>\n",
       "      <td>11</td>\n",
       "    </tr>\n",
       "    <tr>\n",
       "      <th>2</th>\n",
       "      <td>118</td>\n",
       "      <td>412 broccoli casserole</td>\n",
       "      <td>306168</td>\n",
       "      <td>40</td>\n",
       "      <td>50969</td>\n",
       "      <td>2008-05-30</td>\n",
       "      <td>['60-minutes-or-less', 'time-to-make', 'course...</td>\n",
       "      <td>[194.8, 20.0, 6.0, 32.0, 22.0, 36.0, 3.0]</td>\n",
       "      <td>6</td>\n",
       "      <td>['preheat oven to 350 degrees', 'spray a 2 qua...</td>\n",
       "      <td>since there are already 411 recipes for brocco...</td>\n",
       "      <td>['frozen broccoli cuts', 'cream of chicken sou...</td>\n",
       "      <td>9</td>\n",
       "    </tr>\n",
       "    <tr>\n",
       "      <th>3</th>\n",
       "      <td>119</td>\n",
       "      <td>millionaire pound cake</td>\n",
       "      <td>286009</td>\n",
       "      <td>120</td>\n",
       "      <td>461724</td>\n",
       "      <td>2008-02-12</td>\n",
       "      <td>['time-to-make', 'course', 'cuisine', 'prepara...</td>\n",
       "      <td>[878.3, 63.0, 326.0, 13.0, 20.0, 123.0, 39.0]</td>\n",
       "      <td>7</td>\n",
       "      <td>['freheat the oven to 300 degrees', 'grease a ...</td>\n",
       "      <td>why a millionaire pound cake?  because it's su...</td>\n",
       "      <td>['butter', 'sugar', 'eggs', 'all-purpose flour...</td>\n",
       "      <td>7</td>\n",
       "    </tr>\n",
       "    <tr>\n",
       "      <th>4</th>\n",
       "      <td>125</td>\n",
       "      <td>2000 meatloaf</td>\n",
       "      <td>475785</td>\n",
       "      <td>90</td>\n",
       "      <td>2202916</td>\n",
       "      <td>2012-03-06</td>\n",
       "      <td>['time-to-make', 'course', 'main-ingredient', ...</td>\n",
       "      <td>[267.0, 30.0, 12.0, 12.0, 29.0, 48.0, 2.0]</td>\n",
       "      <td>17</td>\n",
       "      <td>['pan fry bacon , and set aside on a paper tow...</td>\n",
       "      <td>ready, set, cook! special edition contest entr...</td>\n",
       "      <td>['meatloaf mixture', 'unsmoked bacon', 'goat c...</td>\n",
       "      <td>13</td>\n",
       "    </tr>\n",
       "  </tbody>\n",
       "</table>\n",
       "</div>"
      ],
      "text/plain": [
       "   Unnamed: 0                                  name      id  minutes  \\\n",
       "0         111  1 brownies in the world    best ever  333281       40   \n",
       "1         115    1 in canada chocolate chip cookies  453467       45   \n",
       "2         118                412 broccoli casserole  306168       40   \n",
       "3         119                millionaire pound cake  286009      120   \n",
       "4         125                         2000 meatloaf  475785       90   \n",
       "\n",
       "   contributor_id   submitted  \\\n",
       "0          985201  2008-10-27   \n",
       "1         1848091  2011-04-11   \n",
       "2           50969  2008-05-30   \n",
       "3          461724  2008-02-12   \n",
       "4         2202916  2012-03-06   \n",
       "\n",
       "                                                tags  \\\n",
       "0  ['60-minutes-or-less', 'time-to-make', 'course...   \n",
       "1  ['60-minutes-or-less', 'time-to-make', 'cuisin...   \n",
       "2  ['60-minutes-or-less', 'time-to-make', 'course...   \n",
       "3  ['time-to-make', 'course', 'cuisine', 'prepara...   \n",
       "4  ['time-to-make', 'course', 'main-ingredient', ...   \n",
       "\n",
       "                                       nutrition  n_steps  \\\n",
       "0       [138.4, 10.0, 50.0, 3.0, 3.0, 19.0, 6.0]       10   \n",
       "1   [595.1, 46.0, 211.0, 22.0, 13.0, 51.0, 26.0]       12   \n",
       "2      [194.8, 20.0, 6.0, 32.0, 22.0, 36.0, 3.0]        6   \n",
       "3  [878.3, 63.0, 326.0, 13.0, 20.0, 123.0, 39.0]        7   \n",
       "4     [267.0, 30.0, 12.0, 12.0, 29.0, 48.0, 2.0]       17   \n",
       "\n",
       "                                               steps  \\\n",
       "0  ['heat the oven to 350f and arrange the rack i...   \n",
       "1  ['pre-heat oven the 350 degrees f', 'in a mixi...   \n",
       "2  ['preheat oven to 350 degrees', 'spray a 2 qua...   \n",
       "3  ['freheat the oven to 300 degrees', 'grease a ...   \n",
       "4  ['pan fry bacon , and set aside on a paper tow...   \n",
       "\n",
       "                                         description  \\\n",
       "0  these are the most; chocolatey, moist, rich, d...   \n",
       "1  this is the recipe that we use at my school ca...   \n",
       "2  since there are already 411 recipes for brocco...   \n",
       "3  why a millionaire pound cake?  because it's su...   \n",
       "4  ready, set, cook! special edition contest entr...   \n",
       "\n",
       "                                         ingredients  n_ingredients  \n",
       "0  ['bittersweet chocolate', 'unsalted butter', '...              9  \n",
       "1  ['white sugar', 'brown sugar', 'salt', 'margar...             11  \n",
       "2  ['frozen broccoli cuts', 'cream of chicken sou...              9  \n",
       "3  ['butter', 'sugar', 'eggs', 'all-purpose flour...              7  \n",
       "4  ['meatloaf mixture', 'unsmoked bacon', 'goat c...             13  "
      ]
     },
     "execution_count": 22,
     "metadata": {},
     "output_type": "execute_result"
    }
   ],
   "source": [
    "#JohnWesley's Directory \n",
    "#recipes = pd.read_csv('/Users/johnwesleypabalate/Desktop/dsc80-2025-wi/projects/project04/data/RAW_recipes.csv')\n",
    "\n",
    "#Ananya's Directory\n",
    "recipes = pd.read_csv('../DSC80/projects/project04/data/RAW_recipes.csv')\n",
    "recipes.head()"
   ]
  },
  {
   "cell_type": "code",
   "execution_count": 24,
   "metadata": {},
   "outputs": [
    {
     "data": {
      "text/html": [
       "<div>\n",
       "<style scoped>\n",
       "    .dataframe tbody tr th:only-of-type {\n",
       "        vertical-align: middle;\n",
       "    }\n",
       "\n",
       "    .dataframe tbody tr th {\n",
       "        vertical-align: top;\n",
       "    }\n",
       "\n",
       "    .dataframe thead th {\n",
       "        text-align: right;\n",
       "    }\n",
       "</style>\n",
       "<table border=\"1\" class=\"dataframe\">\n",
       "  <thead>\n",
       "    <tr style=\"text-align: right;\">\n",
       "      <th></th>\n",
       "      <th>user_id</th>\n",
       "      <th>recipe_id</th>\n",
       "      <th>date</th>\n",
       "      <th>rating</th>\n",
       "      <th>review</th>\n",
       "    </tr>\n",
       "  </thead>\n",
       "  <tbody>\n",
       "    <tr>\n",
       "      <th>0</th>\n",
       "      <td>1293707</td>\n",
       "      <td>40893</td>\n",
       "      <td>2011-12-21</td>\n",
       "      <td>5</td>\n",
       "      <td>So simple, so delicious! Great for chilly fall...</td>\n",
       "    </tr>\n",
       "    <tr>\n",
       "      <th>1</th>\n",
       "      <td>126440</td>\n",
       "      <td>85009</td>\n",
       "      <td>2010-02-27</td>\n",
       "      <td>5</td>\n",
       "      <td>I made the Mexican topping and took it to bunk...</td>\n",
       "    </tr>\n",
       "    <tr>\n",
       "      <th>2</th>\n",
       "      <td>57222</td>\n",
       "      <td>85009</td>\n",
       "      <td>2011-10-01</td>\n",
       "      <td>5</td>\n",
       "      <td>Made the cheddar bacon topping, adding a sprin...</td>\n",
       "    </tr>\n",
       "    <tr>\n",
       "      <th>3</th>\n",
       "      <td>124416</td>\n",
       "      <td>120345</td>\n",
       "      <td>2011-08-06</td>\n",
       "      <td>0</td>\n",
       "      <td>Just an observation, so I will not rate.  I fo...</td>\n",
       "    </tr>\n",
       "    <tr>\n",
       "      <th>4</th>\n",
       "      <td>2000192946</td>\n",
       "      <td>120345</td>\n",
       "      <td>2015-05-10</td>\n",
       "      <td>2</td>\n",
       "      <td>This recipe was OVERLY too sweet.  I would sta...</td>\n",
       "    </tr>\n",
       "  </tbody>\n",
       "</table>\n",
       "</div>"
      ],
      "text/plain": [
       "      user_id  recipe_id        date  rating  \\\n",
       "0     1293707      40893  2011-12-21       5   \n",
       "1      126440      85009  2010-02-27       5   \n",
       "2       57222      85009  2011-10-01       5   \n",
       "3      124416     120345  2011-08-06       0   \n",
       "4  2000192946     120345  2015-05-10       2   \n",
       "\n",
       "                                              review  \n",
       "0  So simple, so delicious! Great for chilly fall...  \n",
       "1  I made the Mexican topping and took it to bunk...  \n",
       "2  Made the cheddar bacon topping, adding a sprin...  \n",
       "3  Just an observation, so I will not rate.  I fo...  \n",
       "4  This recipe was OVERLY too sweet.  I would sta...  "
      ]
     },
     "execution_count": 24,
     "metadata": {},
     "output_type": "execute_result"
    }
   ],
   "source": [
    "#JohnWesley's Directory\n",
    "#reviews = pd.read_csv('/Users/johnwesleypabalate/Desktop/dsc80-2025-wi/projects/project04/data/RAW_interactions.csv')\n",
    "\n",
    "#Ananya's Directory\n",
    "reviews = pd.read_csv('../DSC80/projects/project04/data/RAW_interactions.csv')\n",
    "reviews.head()"
   ]
  },
  {
   "cell_type": "markdown",
   "metadata": {},
   "source": [
    "Let us now merge recipes and ratings into one comprehensive dataset. "
   ]
  },
  {
   "cell_type": "code",
   "execution_count": 4,
   "metadata": {},
   "outputs": [
    {
     "data": {
      "text/html": [
       "<div>\n",
       "<style scoped>\n",
       "    .dataframe tbody tr th:only-of-type {\n",
       "        vertical-align: middle;\n",
       "    }\n",
       "\n",
       "    .dataframe tbody tr th {\n",
       "        vertical-align: top;\n",
       "    }\n",
       "\n",
       "    .dataframe thead th {\n",
       "        text-align: right;\n",
       "    }\n",
       "</style>\n",
       "<table border=\"1\" class=\"dataframe\">\n",
       "  <thead>\n",
       "    <tr style=\"text-align: right;\">\n",
       "      <th></th>\n",
       "      <th>Unnamed: 0</th>\n",
       "      <th>name</th>\n",
       "      <th>id</th>\n",
       "      <th>minutes</th>\n",
       "      <th>contributor_id</th>\n",
       "      <th>submitted</th>\n",
       "      <th>tags</th>\n",
       "      <th>nutrition</th>\n",
       "      <th>n_steps</th>\n",
       "      <th>steps</th>\n",
       "      <th>description</th>\n",
       "      <th>ingredients</th>\n",
       "      <th>n_ingredients</th>\n",
       "      <th>user_id</th>\n",
       "      <th>recipe_id</th>\n",
       "      <th>date</th>\n",
       "      <th>rating</th>\n",
       "      <th>review</th>\n",
       "    </tr>\n",
       "  </thead>\n",
       "  <tbody>\n",
       "    <tr>\n",
       "      <th>0</th>\n",
       "      <td>111</td>\n",
       "      <td>1 brownies in the world    best ever</td>\n",
       "      <td>333281</td>\n",
       "      <td>40</td>\n",
       "      <td>985201</td>\n",
       "      <td>2008-10-27</td>\n",
       "      <td>['60-minutes-or-less', 'time-to-make', 'course...</td>\n",
       "      <td>[138.4, 10.0, 50.0, 3.0, 3.0, 19.0, 6.0]</td>\n",
       "      <td>10</td>\n",
       "      <td>['heat the oven to 350f and arrange the rack i...</td>\n",
       "      <td>these are the most; chocolatey, moist, rich, d...</td>\n",
       "      <td>['bittersweet chocolate', 'unsalted butter', '...</td>\n",
       "      <td>9</td>\n",
       "      <td>386585.0</td>\n",
       "      <td>333281.0</td>\n",
       "      <td>2008-11-19</td>\n",
       "      <td>4.0</td>\n",
       "      <td>These were pretty good, but took forever to ba...</td>\n",
       "    </tr>\n",
       "    <tr>\n",
       "      <th>1</th>\n",
       "      <td>115</td>\n",
       "      <td>1 in canada chocolate chip cookies</td>\n",
       "      <td>453467</td>\n",
       "      <td>45</td>\n",
       "      <td>1848091</td>\n",
       "      <td>2011-04-11</td>\n",
       "      <td>['60-minutes-or-less', 'time-to-make', 'cuisin...</td>\n",
       "      <td>[595.1, 46.0, 211.0, 22.0, 13.0, 51.0, 26.0]</td>\n",
       "      <td>12</td>\n",
       "      <td>['pre-heat oven the 350 degrees f', 'in a mixi...</td>\n",
       "      <td>this is the recipe that we use at my school ca...</td>\n",
       "      <td>['white sugar', 'brown sugar', 'salt', 'margar...</td>\n",
       "      <td>11</td>\n",
       "      <td>424680.0</td>\n",
       "      <td>453467.0</td>\n",
       "      <td>2012-01-26</td>\n",
       "      <td>5.0</td>\n",
       "      <td>Originally I was gonna cut the recipe in half ...</td>\n",
       "    </tr>\n",
       "    <tr>\n",
       "      <th>2</th>\n",
       "      <td>118</td>\n",
       "      <td>412 broccoli casserole</td>\n",
       "      <td>306168</td>\n",
       "      <td>40</td>\n",
       "      <td>50969</td>\n",
       "      <td>2008-05-30</td>\n",
       "      <td>['60-minutes-or-less', 'time-to-make', 'course...</td>\n",
       "      <td>[194.8, 20.0, 6.0, 32.0, 22.0, 36.0, 3.0]</td>\n",
       "      <td>6</td>\n",
       "      <td>['preheat oven to 350 degrees', 'spray a 2 qua...</td>\n",
       "      <td>since there are already 411 recipes for brocco...</td>\n",
       "      <td>['frozen broccoli cuts', 'cream of chicken sou...</td>\n",
       "      <td>9</td>\n",
       "      <td>29782.0</td>\n",
       "      <td>306168.0</td>\n",
       "      <td>2008-12-31</td>\n",
       "      <td>5.0</td>\n",
       "      <td>This was one of the best broccoli casseroles t...</td>\n",
       "    </tr>\n",
       "    <tr>\n",
       "      <th>3</th>\n",
       "      <td>118</td>\n",
       "      <td>412 broccoli casserole</td>\n",
       "      <td>306168</td>\n",
       "      <td>40</td>\n",
       "      <td>50969</td>\n",
       "      <td>2008-05-30</td>\n",
       "      <td>['60-minutes-or-less', 'time-to-make', 'course...</td>\n",
       "      <td>[194.8, 20.0, 6.0, 32.0, 22.0, 36.0, 3.0]</td>\n",
       "      <td>6</td>\n",
       "      <td>['preheat oven to 350 degrees', 'spray a 2 qua...</td>\n",
       "      <td>since there are already 411 recipes for brocco...</td>\n",
       "      <td>['frozen broccoli cuts', 'cream of chicken sou...</td>\n",
       "      <td>9</td>\n",
       "      <td>1196280.0</td>\n",
       "      <td>306168.0</td>\n",
       "      <td>2009-04-13</td>\n",
       "      <td>5.0</td>\n",
       "      <td>I made this for my son's first birthday party ...</td>\n",
       "    </tr>\n",
       "    <tr>\n",
       "      <th>4</th>\n",
       "      <td>118</td>\n",
       "      <td>412 broccoli casserole</td>\n",
       "      <td>306168</td>\n",
       "      <td>40</td>\n",
       "      <td>50969</td>\n",
       "      <td>2008-05-30</td>\n",
       "      <td>['60-minutes-or-less', 'time-to-make', 'course...</td>\n",
       "      <td>[194.8, 20.0, 6.0, 32.0, 22.0, 36.0, 3.0]</td>\n",
       "      <td>6</td>\n",
       "      <td>['preheat oven to 350 degrees', 'spray a 2 qua...</td>\n",
       "      <td>since there are already 411 recipes for brocco...</td>\n",
       "      <td>['frozen broccoli cuts', 'cream of chicken sou...</td>\n",
       "      <td>9</td>\n",
       "      <td>768828.0</td>\n",
       "      <td>306168.0</td>\n",
       "      <td>2013-08-02</td>\n",
       "      <td>5.0</td>\n",
       "      <td>Loved this.  Be sure to completely thaw the br...</td>\n",
       "    </tr>\n",
       "  </tbody>\n",
       "</table>\n",
       "</div>"
      ],
      "text/plain": [
       "   Unnamed: 0                                  name      id  minutes  \\\n",
       "0         111  1 brownies in the world    best ever  333281       40   \n",
       "1         115    1 in canada chocolate chip cookies  453467       45   \n",
       "2         118                412 broccoli casserole  306168       40   \n",
       "3         118                412 broccoli casserole  306168       40   \n",
       "4         118                412 broccoli casserole  306168       40   \n",
       "\n",
       "   contributor_id   submitted  \\\n",
       "0          985201  2008-10-27   \n",
       "1         1848091  2011-04-11   \n",
       "2           50969  2008-05-30   \n",
       "3           50969  2008-05-30   \n",
       "4           50969  2008-05-30   \n",
       "\n",
       "                                                tags  \\\n",
       "0  ['60-minutes-or-less', 'time-to-make', 'course...   \n",
       "1  ['60-minutes-or-less', 'time-to-make', 'cuisin...   \n",
       "2  ['60-minutes-or-less', 'time-to-make', 'course...   \n",
       "3  ['60-minutes-or-less', 'time-to-make', 'course...   \n",
       "4  ['60-minutes-or-less', 'time-to-make', 'course...   \n",
       "\n",
       "                                      nutrition  n_steps  \\\n",
       "0      [138.4, 10.0, 50.0, 3.0, 3.0, 19.0, 6.0]       10   \n",
       "1  [595.1, 46.0, 211.0, 22.0, 13.0, 51.0, 26.0]       12   \n",
       "2     [194.8, 20.0, 6.0, 32.0, 22.0, 36.0, 3.0]        6   \n",
       "3     [194.8, 20.0, 6.0, 32.0, 22.0, 36.0, 3.0]        6   \n",
       "4     [194.8, 20.0, 6.0, 32.0, 22.0, 36.0, 3.0]        6   \n",
       "\n",
       "                                               steps  \\\n",
       "0  ['heat the oven to 350f and arrange the rack i...   \n",
       "1  ['pre-heat oven the 350 degrees f', 'in a mixi...   \n",
       "2  ['preheat oven to 350 degrees', 'spray a 2 qua...   \n",
       "3  ['preheat oven to 350 degrees', 'spray a 2 qua...   \n",
       "4  ['preheat oven to 350 degrees', 'spray a 2 qua...   \n",
       "\n",
       "                                         description  \\\n",
       "0  these are the most; chocolatey, moist, rich, d...   \n",
       "1  this is the recipe that we use at my school ca...   \n",
       "2  since there are already 411 recipes for brocco...   \n",
       "3  since there are already 411 recipes for brocco...   \n",
       "4  since there are already 411 recipes for brocco...   \n",
       "\n",
       "                                         ingredients  n_ingredients  \\\n",
       "0  ['bittersweet chocolate', 'unsalted butter', '...              9   \n",
       "1  ['white sugar', 'brown sugar', 'salt', 'margar...             11   \n",
       "2  ['frozen broccoli cuts', 'cream of chicken sou...              9   \n",
       "3  ['frozen broccoli cuts', 'cream of chicken sou...              9   \n",
       "4  ['frozen broccoli cuts', 'cream of chicken sou...              9   \n",
       "\n",
       "     user_id  recipe_id        date  rating  \\\n",
       "0   386585.0   333281.0  2008-11-19     4.0   \n",
       "1   424680.0   453467.0  2012-01-26     5.0   \n",
       "2    29782.0   306168.0  2008-12-31     5.0   \n",
       "3  1196280.0   306168.0  2009-04-13     5.0   \n",
       "4   768828.0   306168.0  2013-08-02     5.0   \n",
       "\n",
       "                                              review  \n",
       "0  These were pretty good, but took forever to ba...  \n",
       "1  Originally I was gonna cut the recipe in half ...  \n",
       "2  This was one of the best broccoli casseroles t...  \n",
       "3  I made this for my son's first birthday party ...  \n",
       "4  Loved this.  Be sure to completely thaw the br...  "
      ]
     },
     "execution_count": 4,
     "metadata": {},
     "output_type": "execute_result"
    }
   ],
   "source": [
    "recipe_ratings = recipes.merge(reviews, left_on = 'id', right_on = 'recipe_id', how=\"left\")\n",
    "recipe_ratings.head()"
   ]
  },
  {
   "cell_type": "markdown",
   "metadata": {},
   "source": [
    "Let us replace all 0s in the ratings column with NaN values. The 0 represents no rating given, but it will influence any calculations we perform with the ratings. We also calculate the average ratings for each recipe and store it in `avg_recipe_rating`. We will then add it as a column to recipe_reviews."
   ]
  },
  {
   "cell_type": "code",
   "execution_count": 5,
   "metadata": {},
   "outputs": [],
   "source": [
    "recipe_ratings.loc[recipe_ratings['rating'] == 0, 'rating'] = np.nan\n",
    "avg_recipe_rating = recipe_ratings.groupby('recipe_id')['rating'].mean()"
   ]
  },
  {
   "cell_type": "code",
   "execution_count": 6,
   "metadata": {},
   "outputs": [],
   "source": [
    "recipe_ratings = recipe_ratings.merge(avg_recipe_rating.reset_index().rename(columns={'rating': 'avg_rating'}), on = 'recipe_id')"
   ]
  },
  {
   "cell_type": "markdown",
   "metadata": {},
   "source": [
    "We can get rid of the first column since it is just an index and does not contribute anything. We will also retain only one of 'id' and 'recipe_id' since they both refer to the same thing."
   ]
  },
  {
   "cell_type": "code",
   "execution_count": 7,
   "metadata": {},
   "outputs": [],
   "source": [
    "recipe_ratings = recipe_ratings.drop(columns = ['recipe_id', 'Unnamed: 0'])\n",
    "recipe_ratings = recipe_ratings.rename(columns = {'id': 'recipe_id'})"
   ]
  },
  {
   "cell_type": "markdown",
   "metadata": {},
   "source": [
    "Let us now look at the columns we have and clean them up one by one."
   ]
  },
  {
   "cell_type": "code",
   "execution_count": 8,
   "metadata": {},
   "outputs": [
    {
     "data": {
      "text/plain": [
       "name               object\n",
       "recipe_id           int64\n",
       "minutes             int64\n",
       "contributor_id      int64\n",
       "submitted          object\n",
       "tags               object\n",
       "nutrition          object\n",
       "n_steps             int64\n",
       "steps              object\n",
       "description        object\n",
       "ingredients        object\n",
       "n_ingredients       int64\n",
       "user_id           float64\n",
       "date               object\n",
       "rating            float64\n",
       "review             object\n",
       "avg_rating        float64\n",
       "dtype: object"
      ]
     },
     "execution_count": 8,
     "metadata": {},
     "output_type": "execute_result"
    }
   ],
   "source": [
    "recipe_ratings.dtypes"
   ]
  },
  {
   "cell_type": "markdown",
   "metadata": {},
   "source": [
    "We can convert `submitted` to datetime format."
   ]
  },
  {
   "cell_type": "code",
   "execution_count": 9,
   "metadata": {},
   "outputs": [],
   "source": [
    "recipe_ratings['submitted'] = pd.to_datetime(recipe_ratings['submitted'])"
   ]
  },
  {
   "cell_type": "markdown",
   "metadata": {},
   "source": [
    "We observe that `tags`, `nutrition` and `ingredients` are actually strings formatted to look like lists, so let us convert them to real lists."
   ]
  },
  {
   "cell_type": "code",
   "execution_count": 10,
   "metadata": {
    "ExecuteTime": {
     "end_time": "2019-10-31T23:36:28.657068Z",
     "start_time": "2019-10-31T23:36:28.654650Z"
    }
   },
   "outputs": [],
   "source": [
    "recipe_ratings['tags'] = recipe_ratings['tags'].str.strip('[').str.strip(']').str.replace(\"'\", \"\").str.split(', ')\n",
    "recipe_ratings['nutrition'] = recipe_ratings['nutrition'].str.strip('[').str.strip(']').str.replace(\"'\", \"\").str.split(', ')\n",
    "recipe_ratings['ingredients'] = recipe_ratings['ingredients'].str.strip('[').str.strip(']').str.replace(\"'\", \"\").str.split(', ')"
   ]
  },
  {
   "cell_type": "markdown",
   "metadata": {},
   "source": [
    "The `nutrition` column contains lists of values. Let us separate each value into its respective category - `'calories'`, `'total_fat'`, `'sugar'`, `'sodium'`, `'protein'`, `'saturated_fat'` and `'carbohydrates'`. We can then drop the `nutrition` column."
   ]
  },
  {
   "cell_type": "code",
   "execution_count": 11,
   "metadata": {},
   "outputs": [],
   "source": [
    "categories = ['calories', 'total_fat', 'sugar', 'sodium', 'protein', 'saturated_fat', 'carbohydrates']\n",
    "recipe_ratings = recipe_ratings.assign(\n",
    "    **{category: pd.to_numeric(recipe_ratings['nutrition'].str[i], errors='coerce') for i, category in enumerate(categories)}\n",
    ")\n",
    "recipe_ratings = recipe_ratings.drop(columns = ['nutrition'])"
   ]
  },
  {
   "cell_type": "markdown",
   "metadata": {},
   "source": [
    "Let us now look at our cleaned dataset:"
   ]
  },
  {
   "cell_type": "code",
   "execution_count": 12,
   "metadata": {},
   "outputs": [
    {
     "data": {
      "text/plain": [
       "name                      object\n",
       "recipe_id                  int64\n",
       "minutes                    int64\n",
       "contributor_id             int64\n",
       "submitted         datetime64[ns]\n",
       "tags                      object\n",
       "n_steps                    int64\n",
       "steps                     object\n",
       "description               object\n",
       "ingredients               object\n",
       "n_ingredients              int64\n",
       "user_id                  float64\n",
       "date                      object\n",
       "rating                   float64\n",
       "review                    object\n",
       "avg_rating               float64\n",
       "calories                 float64\n",
       "total_fat                float64\n",
       "sugar                    float64\n",
       "sodium                   float64\n",
       "protein                  float64\n",
       "saturated_fat            float64\n",
       "carbohydrates            float64\n",
       "dtype: object"
      ]
     },
     "execution_count": 12,
     "metadata": {},
     "output_type": "execute_result"
    }
   ],
   "source": [
    "recipe_ratings.dtypes\n"
   ]
  },
  {
   "cell_type": "code",
   "execution_count": 13,
   "metadata": {},
   "outputs": [
    {
     "data": {
      "text/html": [
       "<div>\n",
       "<style scoped>\n",
       "    .dataframe tbody tr th:only-of-type {\n",
       "        vertical-align: middle;\n",
       "    }\n",
       "\n",
       "    .dataframe tbody tr th {\n",
       "        vertical-align: top;\n",
       "    }\n",
       "\n",
       "    .dataframe thead th {\n",
       "        text-align: right;\n",
       "    }\n",
       "</style>\n",
       "<table border=\"1\" class=\"dataframe\">\n",
       "  <thead>\n",
       "    <tr style=\"text-align: right;\">\n",
       "      <th></th>\n",
       "      <th>name</th>\n",
       "      <th>recipe_id</th>\n",
       "      <th>minutes</th>\n",
       "      <th>contributor_id</th>\n",
       "      <th>submitted</th>\n",
       "      <th>tags</th>\n",
       "      <th>n_steps</th>\n",
       "      <th>steps</th>\n",
       "      <th>description</th>\n",
       "      <th>ingredients</th>\n",
       "      <th>...</th>\n",
       "      <th>rating</th>\n",
       "      <th>review</th>\n",
       "      <th>avg_rating</th>\n",
       "      <th>calories</th>\n",
       "      <th>total_fat</th>\n",
       "      <th>sugar</th>\n",
       "      <th>sodium</th>\n",
       "      <th>protein</th>\n",
       "      <th>saturated_fat</th>\n",
       "      <th>carbohydrates</th>\n",
       "    </tr>\n",
       "  </thead>\n",
       "  <tbody>\n",
       "    <tr>\n",
       "      <th>0</th>\n",
       "      <td>1 brownies in the world    best ever</td>\n",
       "      <td>333281</td>\n",
       "      <td>40</td>\n",
       "      <td>985201</td>\n",
       "      <td>2008-10-27</td>\n",
       "      <td>[60-minutes-or-less, time-to-make, course, mai...</td>\n",
       "      <td>10</td>\n",
       "      <td>['heat the oven to 350f and arrange the rack i...</td>\n",
       "      <td>these are the most; chocolatey, moist, rich, d...</td>\n",
       "      <td>[bittersweet chocolate, unsalted butter, eggs,...</td>\n",
       "      <td>...</td>\n",
       "      <td>4.0</td>\n",
       "      <td>These were pretty good, but took forever to ba...</td>\n",
       "      <td>4.0</td>\n",
       "      <td>138.4</td>\n",
       "      <td>10.0</td>\n",
       "      <td>50.0</td>\n",
       "      <td>3.0</td>\n",
       "      <td>3.0</td>\n",
       "      <td>19.0</td>\n",
       "      <td>6.0</td>\n",
       "    </tr>\n",
       "    <tr>\n",
       "      <th>1</th>\n",
       "      <td>1 in canada chocolate chip cookies</td>\n",
       "      <td>453467</td>\n",
       "      <td>45</td>\n",
       "      <td>1848091</td>\n",
       "      <td>2011-04-11</td>\n",
       "      <td>[60-minutes-or-less, time-to-make, cuisine, pr...</td>\n",
       "      <td>12</td>\n",
       "      <td>['pre-heat oven the 350 degrees f', 'in a mixi...</td>\n",
       "      <td>this is the recipe that we use at my school ca...</td>\n",
       "      <td>[white sugar, brown sugar, salt, margarine, eg...</td>\n",
       "      <td>...</td>\n",
       "      <td>5.0</td>\n",
       "      <td>Originally I was gonna cut the recipe in half ...</td>\n",
       "      <td>5.0</td>\n",
       "      <td>595.1</td>\n",
       "      <td>46.0</td>\n",
       "      <td>211.0</td>\n",
       "      <td>22.0</td>\n",
       "      <td>13.0</td>\n",
       "      <td>51.0</td>\n",
       "      <td>26.0</td>\n",
       "    </tr>\n",
       "    <tr>\n",
       "      <th>2</th>\n",
       "      <td>412 broccoli casserole</td>\n",
       "      <td>306168</td>\n",
       "      <td>40</td>\n",
       "      <td>50969</td>\n",
       "      <td>2008-05-30</td>\n",
       "      <td>[60-minutes-or-less, time-to-make, course, mai...</td>\n",
       "      <td>6</td>\n",
       "      <td>['preheat oven to 350 degrees', 'spray a 2 qua...</td>\n",
       "      <td>since there are already 411 recipes for brocco...</td>\n",
       "      <td>[frozen broccoli cuts, cream of chicken soup, ...</td>\n",
       "      <td>...</td>\n",
       "      <td>5.0</td>\n",
       "      <td>This was one of the best broccoli casseroles t...</td>\n",
       "      <td>5.0</td>\n",
       "      <td>194.8</td>\n",
       "      <td>20.0</td>\n",
       "      <td>6.0</td>\n",
       "      <td>32.0</td>\n",
       "      <td>22.0</td>\n",
       "      <td>36.0</td>\n",
       "      <td>3.0</td>\n",
       "    </tr>\n",
       "    <tr>\n",
       "      <th>3</th>\n",
       "      <td>412 broccoli casserole</td>\n",
       "      <td>306168</td>\n",
       "      <td>40</td>\n",
       "      <td>50969</td>\n",
       "      <td>2008-05-30</td>\n",
       "      <td>[60-minutes-or-less, time-to-make, course, mai...</td>\n",
       "      <td>6</td>\n",
       "      <td>['preheat oven to 350 degrees', 'spray a 2 qua...</td>\n",
       "      <td>since there are already 411 recipes for brocco...</td>\n",
       "      <td>[frozen broccoli cuts, cream of chicken soup, ...</td>\n",
       "      <td>...</td>\n",
       "      <td>5.0</td>\n",
       "      <td>I made this for my son's first birthday party ...</td>\n",
       "      <td>5.0</td>\n",
       "      <td>194.8</td>\n",
       "      <td>20.0</td>\n",
       "      <td>6.0</td>\n",
       "      <td>32.0</td>\n",
       "      <td>22.0</td>\n",
       "      <td>36.0</td>\n",
       "      <td>3.0</td>\n",
       "    </tr>\n",
       "    <tr>\n",
       "      <th>4</th>\n",
       "      <td>412 broccoli casserole</td>\n",
       "      <td>306168</td>\n",
       "      <td>40</td>\n",
       "      <td>50969</td>\n",
       "      <td>2008-05-30</td>\n",
       "      <td>[60-minutes-or-less, time-to-make, course, mai...</td>\n",
       "      <td>6</td>\n",
       "      <td>['preheat oven to 350 degrees', 'spray a 2 qua...</td>\n",
       "      <td>since there are already 411 recipes for brocco...</td>\n",
       "      <td>[frozen broccoli cuts, cream of chicken soup, ...</td>\n",
       "      <td>...</td>\n",
       "      <td>5.0</td>\n",
       "      <td>Loved this.  Be sure to completely thaw the br...</td>\n",
       "      <td>5.0</td>\n",
       "      <td>194.8</td>\n",
       "      <td>20.0</td>\n",
       "      <td>6.0</td>\n",
       "      <td>32.0</td>\n",
       "      <td>22.0</td>\n",
       "      <td>36.0</td>\n",
       "      <td>3.0</td>\n",
       "    </tr>\n",
       "  </tbody>\n",
       "</table>\n",
       "<p>5 rows × 23 columns</p>\n",
       "</div>"
      ],
      "text/plain": [
       "                                   name  recipe_id  minutes  contributor_id  \\\n",
       "0  1 brownies in the world    best ever     333281       40          985201   \n",
       "1    1 in canada chocolate chip cookies     453467       45         1848091   \n",
       "2                412 broccoli casserole     306168       40           50969   \n",
       "3                412 broccoli casserole     306168       40           50969   \n",
       "4                412 broccoli casserole     306168       40           50969   \n",
       "\n",
       "   submitted                                               tags  n_steps  \\\n",
       "0 2008-10-27  [60-minutes-or-less, time-to-make, course, mai...       10   \n",
       "1 2011-04-11  [60-minutes-or-less, time-to-make, cuisine, pr...       12   \n",
       "2 2008-05-30  [60-minutes-or-less, time-to-make, course, mai...        6   \n",
       "3 2008-05-30  [60-minutes-or-less, time-to-make, course, mai...        6   \n",
       "4 2008-05-30  [60-minutes-or-less, time-to-make, course, mai...        6   \n",
       "\n",
       "                                               steps  \\\n",
       "0  ['heat the oven to 350f and arrange the rack i...   \n",
       "1  ['pre-heat oven the 350 degrees f', 'in a mixi...   \n",
       "2  ['preheat oven to 350 degrees', 'spray a 2 qua...   \n",
       "3  ['preheat oven to 350 degrees', 'spray a 2 qua...   \n",
       "4  ['preheat oven to 350 degrees', 'spray a 2 qua...   \n",
       "\n",
       "                                         description  \\\n",
       "0  these are the most; chocolatey, moist, rich, d...   \n",
       "1  this is the recipe that we use at my school ca...   \n",
       "2  since there are already 411 recipes for brocco...   \n",
       "3  since there are already 411 recipes for brocco...   \n",
       "4  since there are already 411 recipes for brocco...   \n",
       "\n",
       "                                         ingredients  ...  rating  \\\n",
       "0  [bittersweet chocolate, unsalted butter, eggs,...  ...     4.0   \n",
       "1  [white sugar, brown sugar, salt, margarine, eg...  ...     5.0   \n",
       "2  [frozen broccoli cuts, cream of chicken soup, ...  ...     5.0   \n",
       "3  [frozen broccoli cuts, cream of chicken soup, ...  ...     5.0   \n",
       "4  [frozen broccoli cuts, cream of chicken soup, ...  ...     5.0   \n",
       "\n",
       "                                              review avg_rating  calories  \\\n",
       "0  These were pretty good, but took forever to ba...        4.0     138.4   \n",
       "1  Originally I was gonna cut the recipe in half ...        5.0     595.1   \n",
       "2  This was one of the best broccoli casseroles t...        5.0     194.8   \n",
       "3  I made this for my son's first birthday party ...        5.0     194.8   \n",
       "4  Loved this.  Be sure to completely thaw the br...        5.0     194.8   \n",
       "\n",
       "  total_fat  sugar  sodium  protein  saturated_fat  carbohydrates  \n",
       "0      10.0   50.0     3.0      3.0           19.0            6.0  \n",
       "1      46.0  211.0    22.0     13.0           51.0           26.0  \n",
       "2      20.0    6.0    32.0     22.0           36.0            3.0  \n",
       "3      20.0    6.0    32.0     22.0           36.0            3.0  \n",
       "4      20.0    6.0    32.0     22.0           36.0            3.0  \n",
       "\n",
       "[5 rows x 23 columns]"
      ]
     },
     "execution_count": 13,
     "metadata": {},
     "output_type": "execute_result"
    }
   ],
   "source": [
    "recipe_ratings.head()"
   ]
  },
  {
   "cell_type": "markdown",
   "metadata": {},
   "source": [
    "## Step 3: Assessment of Missingness"
   ]
  },
  {
   "cell_type": "code",
   "execution_count": 15,
   "metadata": {
    "ExecuteTime": {
     "end_time": "2019-10-31T23:36:28.662099Z",
     "start_time": "2019-10-31T23:36:28.660016Z"
    }
   },
   "outputs": [],
   "source": [
    "# TODO"
   ]
  },
  {
   "cell_type": "markdown",
   "metadata": {},
   "source": [
    "## Step 4: Hypothesis Testing"
   ]
  },
  {
   "cell_type": "code",
   "execution_count": 16,
   "metadata": {
    "ExecuteTime": {
     "end_time": "2019-10-31T23:36:28.666489Z",
     "start_time": "2019-10-31T23:36:28.664381Z"
    }
   },
   "outputs": [],
   "source": [
    "# TODO"
   ]
  },
  {
   "cell_type": "markdown",
   "metadata": {},
   "source": [
    "## Step 5: Framing a Prediction Problem"
   ]
  },
  {
   "cell_type": "code",
   "execution_count": 17,
   "metadata": {
    "ExecuteTime": {
     "end_time": "2019-10-31T23:36:28.657068Z",
     "start_time": "2019-10-31T23:36:28.654650Z"
    }
   },
   "outputs": [],
   "source": [
    "# TODO"
   ]
  },
  {
   "cell_type": "markdown",
   "metadata": {},
   "source": [
    "## Step 6: Baseline Model"
   ]
  },
  {
   "cell_type": "code",
   "execution_count": 18,
   "metadata": {
    "ExecuteTime": {
     "end_time": "2019-10-31T23:36:28.662099Z",
     "start_time": "2019-10-31T23:36:28.660016Z"
    }
   },
   "outputs": [],
   "source": [
    "# TODO"
   ]
  },
  {
   "cell_type": "markdown",
   "metadata": {},
   "source": [
    "## Step 7: Final Model"
   ]
  },
  {
   "cell_type": "code",
   "execution_count": 19,
   "metadata": {
    "ExecuteTime": {
     "end_time": "2019-10-31T23:36:28.662099Z",
     "start_time": "2019-10-31T23:36:28.660016Z"
    }
   },
   "outputs": [],
   "source": [
    "# TODO"
   ]
  },
  {
   "cell_type": "markdown",
   "metadata": {},
   "source": [
    "## Step 8: Fairness Analysis"
   ]
  },
  {
   "cell_type": "code",
   "execution_count": 20,
   "metadata": {
    "ExecuteTime": {
     "end_time": "2019-10-31T23:36:28.666489Z",
     "start_time": "2019-10-31T23:36:28.664381Z"
    }
   },
   "outputs": [],
   "source": [
    "# TODO"
   ]
  }
 ],
 "metadata": {
  "kernelspec": {
   "display_name": "Python 3 (ipykernel)",
   "language": "python",
   "name": "python3"
  },
  "language_info": {
   "codemirror_mode": {
    "name": "ipython",
    "version": 3
   },
   "file_extension": ".py",
   "mimetype": "text/x-python",
   "name": "python",
   "nbconvert_exporter": "python",
   "pygments_lexer": "ipython3",
   "version": "3.12.9"
  }
 },
 "nbformat": 4,
 "nbformat_minor": 4
}
